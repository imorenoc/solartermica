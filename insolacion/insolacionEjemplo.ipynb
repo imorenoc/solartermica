{
 "cells": [
  {
   "cell_type": "markdown",
   "id": "dc6b0adb-0ea4-4613-b6cc-1cac9a6d1ef3",
   "metadata": {},
   "source": [
    "# Insolación"
   ]
  },
  {
   "cell_type": "code",
   "execution_count": 3,
   "id": "a079a57b-1224-46d0-816a-87d0a460fb30",
   "metadata": {},
   "outputs": [
    {
     "data": {
      "text/html": [
       "<div>\n",
       "<style scoped>\n",
       "    .dataframe tbody tr th:only-of-type {\n",
       "        vertical-align: middle;\n",
       "    }\n",
       "\n",
       "    .dataframe tbody tr th {\n",
       "        vertical-align: top;\n",
       "    }\n",
       "\n",
       "    .dataframe thead th {\n",
       "        text-align: right;\n",
       "    }\n",
       "</style>\n",
       "<table border=\"1\" class=\"dataframe\">\n",
       "  <thead>\n",
       "    <tr style=\"text-align: right;\">\n",
       "      <th></th>\n",
       "      <th>H</th>\n",
       "    </tr>\n",
       "    <tr>\n",
       "      <th>Fecha</th>\n",
       "      <th></th>\n",
       "    </tr>\n",
       "  </thead>\n",
       "  <tbody>\n",
       "    <tr>\n",
       "      <th>2014-01-01</th>\n",
       "      <td>18.348258</td>\n",
       "    </tr>\n",
       "    <tr>\n",
       "      <th>2014-01-02</th>\n",
       "      <td>17.008531</td>\n",
       "    </tr>\n",
       "    <tr>\n",
       "      <th>2014-01-03</th>\n",
       "      <td>18.633686</td>\n",
       "    </tr>\n",
       "    <tr>\n",
       "      <th>2014-01-04</th>\n",
       "      <td>18.938126</td>\n",
       "    </tr>\n",
       "    <tr>\n",
       "      <th>2014-01-05</th>\n",
       "      <td>18.634267</td>\n",
       "    </tr>\n",
       "  </tbody>\n",
       "</table>\n",
       "</div>"
      ],
      "text/plain": [
       "                    H\n",
       "Fecha                \n",
       "2014-01-01  18.348258\n",
       "2014-01-02  17.008531\n",
       "2014-01-03  18.633686\n",
       "2014-01-04  18.938126\n",
       "2014-01-05  18.634267"
      ]
     },
     "execution_count": 3,
     "metadata": {},
     "output_type": "execute_result"
    }
   ],
   "source": [
    "import pandas as pd\n",
    "import insolacion as i\n",
    "\n",
    "df = pd.read_csv(\"data_2014.csv\", sep =',', skiprows=5)\n",
    "df.columns= ['time', 'record', 'Gb', 'G', 'Gd', 'uv', 'T', 'phi', 'v','p']\n",
    "df.time = pd.to_datetime(df['time'], format= '%d/%m/%Y %H:%M')\n",
    "df.set_index(df['time'], inplace=True)\n",
    "df[\"Gb\"] = df['Gb'].apply(pd.to_numeric, errors='coerce')\n",
    "df.dtypes\n",
    "df.head()\n",
    "\n",
    "\n",
    "dt = 10*60\n",
    "H = i.H(df.G, dt)\n",
    "\n",
    "H.head()"
   ]
  },
  {
   "cell_type": "markdown",
   "id": "c8a0a1f7-ff7f-4203-a0a8-a2a160ab2a56",
   "metadata": {},
   "source": [
    "# Insolación promedio mensual"
   ]
  },
  {
   "cell_type": "code",
   "execution_count": 4,
   "id": "dc434927-a6a3-42b2-aca7-ab9c502771ee",
   "metadata": {},
   "outputs": [
    {
     "data": {
      "text/html": [
       "<div>\n",
       "<style scoped>\n",
       "    .dataframe tbody tr th:only-of-type {\n",
       "        vertical-align: middle;\n",
       "    }\n",
       "\n",
       "    .dataframe tbody tr th {\n",
       "        vertical-align: top;\n",
       "    }\n",
       "\n",
       "    .dataframe thead th {\n",
       "        text-align: right;\n",
       "    }\n",
       "</style>\n",
       "<table border=\"1\" class=\"dataframe\">\n",
       "  <thead>\n",
       "    <tr style=\"text-align: right;\">\n",
       "      <th></th>\n",
       "      <th>Kt</th>\n",
       "    </tr>\n",
       "    <tr>\n",
       "      <th>Fecha</th>\n",
       "      <th></th>\n",
       "    </tr>\n",
       "  </thead>\n",
       "  <tbody>\n",
       "    <tr>\n",
       "      <th>2019-01-01</th>\n",
       "      <td>0.968630</td>\n",
       "    </tr>\n",
       "    <tr>\n",
       "      <th>2019-01-02</th>\n",
       "      <td>0.445066</td>\n",
       "    </tr>\n",
       "    <tr>\n",
       "      <th>2019-01-03</th>\n",
       "      <td>0.419145</td>\n",
       "    </tr>\n",
       "    <tr>\n",
       "      <th>2019-01-04</th>\n",
       "      <td>0.898868</td>\n",
       "    </tr>\n",
       "    <tr>\n",
       "      <th>2019-01-05</th>\n",
       "      <td>0.814493</td>\n",
       "    </tr>\n",
       "  </tbody>\n",
       "</table>\n",
       "</div>"
      ],
      "text/plain": [
       "                  Kt\n",
       "Fecha               \n",
       "2019-01-01  0.968630\n",
       "2019-01-02  0.445066\n",
       "2019-01-03  0.419145\n",
       "2019-01-04  0.898868\n",
       "2019-01-05  0.814493"
      ]
     },
     "execution_count": 4,
     "metadata": {},
     "output_type": "execute_result"
    }
   ],
   "source": [
    "import pandas as pd\n",
    "import insolacion as i\n",
    "from myfunc import d2r\n",
    "\n",
    "df = pd.read_csv('temixcoEnero2019.csv', sep = ',', skiprows = 5)\n",
    "df.columns = [\"time\", \"Gb\", \"G\", \"Gd\", \"UV\", \"T\", \"phi\", \"v\", \"p\"]\n",
    "df.time = pd.to_datetime(df[\"time\"], format = \"%Y-%m-%d %H:%M:%S\")\n",
    "df.set_index(df['time'], inplace=True)\n",
    "\n",
    "dt = 10*60\n",
    "H = i.H(df.Gb, dt)\n",
    "H.head()\n",
    "\n",
    "phi = d2r(18.8)\n",
    "k = i.Kt(H, phi)\n",
    "k.head()"
   ]
  },
  {
   "cell_type": "code",
   "execution_count": null,
   "id": "a97b4d81-a418-4379-b29b-bd62c9e3b5e7",
   "metadata": {},
   "outputs": [],
   "source": []
  },
  {
   "cell_type": "code",
   "execution_count": null,
   "id": "59fade0e-907c-4e8b-abec-aa34c8e31ef8",
   "metadata": {},
   "outputs": [],
   "source": []
  }
 ],
 "metadata": {
  "kernelspec": {
   "display_name": "Python 3 (ipykernel)",
   "language": "python",
   "name": "python3"
  },
  "language_info": {
   "codemirror_mode": {
    "name": "ipython",
    "version": 3
   },
   "file_extension": ".py",
   "mimetype": "text/x-python",
   "name": "python",
   "nbconvert_exporter": "python",
   "pygments_lexer": "ipython3",
   "version": "3.11.5"
  }
 },
 "nbformat": 4,
 "nbformat_minor": 5
}
