{
 "cells": [
  {
   "cell_type": "markdown",
   "id": "baeed7d1-b24f-4812-9376-d642877c04b4",
   "metadata": {},
   "source": [
    "# Insolación\n",
    "\n",
    "## Irradiancia promedio mensual\n",
    "\n",
    "$\\bar{H} = \\dfrac{1}{N_{\\rm dias}} \\sum_{\\rm dias}H_i$\n",
    "\n",
    "## Irradiancia total diaria\n",
    "\n",
    "$H = \\Delta t \\sum_{i=1}^N G_i$"
   ]
  },
  {
   "cell_type": "code",
   "execution_count": 3,
   "id": "6b414204-cd70-4194-9f04-006740c26588",
   "metadata": {},
   "outputs": [
    {
     "data": {
      "text/html": [
       "<div>\n",
       "<style scoped>\n",
       "    .dataframe tbody tr th:only-of-type {\n",
       "        vertical-align: middle;\n",
       "    }\n",
       "\n",
       "    .dataframe tbody tr th {\n",
       "        vertical-align: top;\n",
       "    }\n",
       "\n",
       "    .dataframe thead th {\n",
       "        text-align: right;\n",
       "    }\n",
       "</style>\n",
       "<table border=\"1\" class=\"dataframe\">\n",
       "  <thead>\n",
       "    <tr style=\"text-align: right;\">\n",
       "      <th></th>\n",
       "      <th>time</th>\n",
       "      <th>Gb</th>\n",
       "      <th>G</th>\n",
       "      <th>Gd</th>\n",
       "      <th>UV</th>\n",
       "      <th>T</th>\n",
       "      <th>phi</th>\n",
       "      <th>v</th>\n",
       "      <th>p</th>\n",
       "    </tr>\n",
       "    <tr>\n",
       "      <th>time</th>\n",
       "      <th></th>\n",
       "      <th></th>\n",
       "      <th></th>\n",
       "      <th></th>\n",
       "      <th></th>\n",
       "      <th></th>\n",
       "      <th></th>\n",
       "      <th></th>\n",
       "      <th></th>\n",
       "    </tr>\n",
       "  </thead>\n",
       "  <tbody>\n",
       "    <tr>\n",
       "      <th>2019-01-01 00:10:00</th>\n",
       "      <td>2019-01-01 00:10:00</td>\n",
       "      <td>0.182</td>\n",
       "      <td>0.0</td>\n",
       "      <td>0.0</td>\n",
       "      <td>0</td>\n",
       "      <td>18.29</td>\n",
       "      <td>59.84</td>\n",
       "      <td>1.385</td>\n",
       "      <td>875.1749</td>\n",
       "    </tr>\n",
       "    <tr>\n",
       "      <th>2019-01-01 00:20:00</th>\n",
       "      <td>2019-01-01 00:20:00</td>\n",
       "      <td>0.000</td>\n",
       "      <td>0.0</td>\n",
       "      <td>0.0</td>\n",
       "      <td>0</td>\n",
       "      <td>17.92</td>\n",
       "      <td>60.08</td>\n",
       "      <td>0.057</td>\n",
       "      <td>874.8231</td>\n",
       "    </tr>\n",
       "    <tr>\n",
       "      <th>2019-01-01 00:30:00</th>\n",
       "      <td>2019-01-01 00:30:00</td>\n",
       "      <td>0.066</td>\n",
       "      <td>0.0</td>\n",
       "      <td>0.0</td>\n",
       "      <td>0</td>\n",
       "      <td>17.91</td>\n",
       "      <td>61.51</td>\n",
       "      <td>0.003</td>\n",
       "      <td>874.7002</td>\n",
       "    </tr>\n",
       "    <tr>\n",
       "      <th>2019-01-01 00:40:00</th>\n",
       "      <td>2019-01-01 00:40:00</td>\n",
       "      <td>0.069</td>\n",
       "      <td>0.0</td>\n",
       "      <td>0.0</td>\n",
       "      <td>0</td>\n",
       "      <td>17.94</td>\n",
       "      <td>61.41</td>\n",
       "      <td>0.467</td>\n",
       "      <td>874.6029</td>\n",
       "    </tr>\n",
       "    <tr>\n",
       "      <th>2019-01-01 00:50:00</th>\n",
       "      <td>2019-01-01 00:50:00</td>\n",
       "      <td>0.000</td>\n",
       "      <td>0.0</td>\n",
       "      <td>0.0</td>\n",
       "      <td>0</td>\n",
       "      <td>17.69</td>\n",
       "      <td>61.27</td>\n",
       "      <td>0.438</td>\n",
       "      <td>874.8728</td>\n",
       "    </tr>\n",
       "  </tbody>\n",
       "</table>\n",
       "</div>"
      ],
      "text/plain": [
       "                                   time     Gb    G   Gd  UV      T    phi  \\\n",
       "time                                                                         \n",
       "2019-01-01 00:10:00 2019-01-01 00:10:00  0.182  0.0  0.0   0  18.29  59.84   \n",
       "2019-01-01 00:20:00 2019-01-01 00:20:00  0.000  0.0  0.0   0  17.92  60.08   \n",
       "2019-01-01 00:30:00 2019-01-01 00:30:00  0.066  0.0  0.0   0  17.91  61.51   \n",
       "2019-01-01 00:40:00 2019-01-01 00:40:00  0.069  0.0  0.0   0  17.94  61.41   \n",
       "2019-01-01 00:50:00 2019-01-01 00:50:00  0.000  0.0  0.0   0  17.69  61.27   \n",
       "\n",
       "                         v         p  \n",
       "time                                  \n",
       "2019-01-01 00:10:00  1.385  875.1749  \n",
       "2019-01-01 00:20:00  0.057  874.8231  \n",
       "2019-01-01 00:30:00  0.003  874.7002  \n",
       "2019-01-01 00:40:00  0.467  874.6029  \n",
       "2019-01-01 00:50:00  0.438  874.8728  "
      ]
     },
     "execution_count": 3,
     "metadata": {},
     "output_type": "execute_result"
    }
   ],
   "source": [
    "import pandas as pd\n",
    "import numpy as np\n",
    "import matplotlib.pyplot as plt\n",
    "\n",
    "df = pd.read_csv('temixcoEnero2019.csv', sep = ',', skiprows = 5)\n",
    "df.columns = [\"time\", \"Gb\", \"G\", \"Gd\", \"UV\", \"T\", \"phi\", \"v\", \"p\"]\n",
    "df.time = pd.to_datetime(df[\"time\"], format = \"%Y-%m-%d %H:%M:%S\")\n",
    "df.set_index(df['time'], inplace=True)\n",
    "df.head()"
   ]
  },
  {
   "cell_type": "code",
   "execution_count": 12,
   "id": "02a4762c-8e93-47b2-9036-c4bbf6ba263a",
   "metadata": {},
   "outputs": [
    {
     "data": {
      "text/html": [
       "<div>\n",
       "<style scoped>\n",
       "    .dataframe tbody tr th:only-of-type {\n",
       "        vertical-align: middle;\n",
       "    }\n",
       "\n",
       "    .dataframe tbody tr th {\n",
       "        vertical-align: top;\n",
       "    }\n",
       "\n",
       "    .dataframe thead th {\n",
       "        text-align: right;\n",
       "    }\n",
       "</style>\n",
       "<table border=\"1\" class=\"dataframe\">\n",
       "  <thead>\n",
       "    <tr style=\"text-align: right;\">\n",
       "      <th></th>\n",
       "      <th>N</th>\n",
       "      <th>H</th>\n",
       "    </tr>\n",
       "  </thead>\n",
       "  <tbody>\n",
       "    <tr>\n",
       "      <th>0</th>\n",
       "      <td>1</td>\n",
       "      <td>25.675544</td>\n",
       "    </tr>\n",
       "    <tr>\n",
       "      <th>1</th>\n",
       "      <td>2</td>\n",
       "      <td>11.816564</td>\n",
       "    </tr>\n",
       "    <tr>\n",
       "      <th>2</th>\n",
       "      <td>3</td>\n",
       "      <td>11.147302</td>\n",
       "    </tr>\n",
       "    <tr>\n",
       "      <th>3</th>\n",
       "      <td>4</td>\n",
       "      <td>23.950518</td>\n",
       "    </tr>\n",
       "    <tr>\n",
       "      <th>4</th>\n",
       "      <td>5</td>\n",
       "      <td>21.745622</td>\n",
       "    </tr>\n",
       "  </tbody>\n",
       "</table>\n",
       "</div>"
      ],
      "text/plain": [
       "   N          H\n",
       "0  1  25.675544\n",
       "1  2  11.816564\n",
       "2  3  11.147302\n",
       "3  4  23.950518\n",
       "4  5  21.745622"
      ]
     },
     "execution_count": 12,
     "metadata": {},
     "output_type": "execute_result"
    }
   ],
   "source": [
    "N = df.index.day.unique().values\n",
    "dt = 10*60\n",
    "\n",
    "H = []\n",
    "for n in N:\n",
    "    dfw = df[df.index.day == n]\n",
    "    aux = dt * dfw.Gb.sum() / 1E6   # MJ/m2\n",
    "    H.append(aux)\n",
    "\n",
    "dfw = pd.DataFrame({'N':N, 'H': H})\n",
    "dfw.to_csv('Enero2019.dat', index = False, sep ='\\t')\n",
    "dfw.head()"
   ]
  },
  {
   "cell_type": "code",
   "execution_count": 6,
   "id": "34e5681b-48d1-415c-9680-78232b2e676b",
   "metadata": {},
   "outputs": [
    {
     "data": {
      "image/png": "[encoded data removed]",
      "text/plain": [
       "<Figure size 640x480 with 1 Axes>"
      ]
     },
     "metadata": {},
     "output_type": "display_data"
    }
   ],
   "source": [
    "plt.xlabel(\"Dia\")\n",
    "plt.ylabel(\"H [MJ/m2]\")\n",
    "plt.bar(dfw.N, dfw.H)\n",
    "plt.show()\n"
   ]
  },
  {
   "cell_type": "code",
   "execution_count": 7,
   "id": "503a3541-0fad-45cd-93db-ca6024af9932",
   "metadata": {},
   "outputs": [
    {
     "name": "stdout",
     "output_type": "stream",
     "text": [
      "Irradiacion promedio mensual = 22.82 MJ/m2\n"
     ]
    }
   ],
   "source": [
    "Hm = dfw[\"H\"].mean()\n",
    "print(\"Irradiacion promedio mensual = %.2f MJ/m2\" % Hm)"
   ]
  }
 ],
 "metadata": {
  "kernelspec": {
   "display_name": "Python 3 (ipykernel)",
   "language": "python",
   "name": "python3"
  },
  "language_info": {
   "codemirror_mode": {
    "name": "ipython",
    "version": 3
   },
   "file_extension": ".py",
   "mimetype": "text/x-python",
   "name": "python",
   "nbconvert_exporter": "python",
   "pygments_lexer": "ipython3",
   "version": "3.11.5"
  }
 },
 "nbformat": 4,
 "nbformat_minor": 5
}
